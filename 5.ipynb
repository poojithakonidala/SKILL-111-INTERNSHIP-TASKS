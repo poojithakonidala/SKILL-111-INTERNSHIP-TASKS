import pandas as pd
import numpy as np
import matplotlib.pyplot as plt
import seaborn as sns
from sklearn import preprocessing
import keras
import tensorflow as tf

     

ipl = pd.read_csv('ipl_data.csv')
ipl.head()

     
mid	date	venue	bat_team	bowl_team	batsman	bowler	runs	wickets	overs	runs_last_5	wickets_last_5	striker	non-striker	total
0	1	2008-04-18	M Chinnaswamy Stadium	Kolkata Knight Riders	Royal Challengers Bangalore	SC Ganguly	P Kumar	1	0	0.1	1	0	0	0	222
1	1	2008-04-18	M Chinnaswamy Stadium	Kolkata Knight Riders	Royal Challengers Bangalore	BB McCullum	P Kumar	1	0	0.2	1	0	0	0	222
2	1	2008-04-18	M Chinnaswamy Stadium	Kolkata Knight Riders	Royal Challengers Bangalore	BB McCullum	P Kumar	2	0	0.2	2	0	0	0	222
3	1	2008-04-18	M Chinnaswamy Stadium	Kolkata Knight Riders	Royal Challengers Bangalore	BB McCullum	P Kumar	2	0	0.3	2	0	0	0	222
4	1	2008-04-18	M Chinnaswamy Stadium	Kolkata Knight Riders	Royal Challengers Bangalore	BB McCullum	P Kumar	2	0	0.4	2	0	0	0	222

#Dropping certain features
df = ipl.drop(['date', 'runs', 'wickets', 'overs', 'runs_last_5', 'wickets_last_5','mid', 'striker', 'non-striker'], axis =1)
df.head()

     
venue	bat_team	bowl_team	batsman	bowler	total
0	M Chinnaswamy Stadium	Kolkata Knight Riders	Royal Challengers Bangalore	SC Ganguly	P Kumar	222
1	M Chinnaswamy Stadium	Kolkata Knight Riders	Royal Challengers Bangalore	BB McCullum	P Kumar	222
2	M Chinnaswamy Stadium	Kolkata Knight Riders	Royal Challengers Bangalore	BB McCullum	P Kumar	222
3	M Chinnaswamy Stadium	Kolkata Knight Riders	Royal Challengers Bangalore	BB McCullum	P Kumar	222
4	M Chinnaswamy Stadium	Kolkata Knight Riders	Royal Challengers Bangalore	BB McCullum	P Kumar	222

X = df.drop(['total'], axis =1)
y = df['total']
     

#Label Encoding

from sklearn.preprocessing import LabelEncoder

# Create a LabelEncoder object for each categorical feature
venue_encoder = LabelEncoder()
batting_team_encoder = LabelEncoder()
bowling_team_encoder = LabelEncoder()
striker_encoder = LabelEncoder()
bowler_encoder = LabelEncoder()

# Fit and transform the categorical features with label encoding
X['venue'] = venue_encoder.fit_transform(X['venue'])
X['bat_team'] = batting_team_encoder.fit_transform(X['bat_team'])
X['bowl_team'] = bowling_team_encoder.fit_transform(X['bowl_team'])
X['batsman'] = striker_encoder.fit_transform(X['batsman'])
X['bowler'] = bowler_encoder.fit_transform(X['bowler'])
     

# Train test Split
from sklearn.model_selection import train_test_split
X_train, X_test, y_train, y_test = train_test_split(X, y, test_size=0.3, random_state=42)
     

from sklearn.preprocessing import MinMaxScaler

scaler = MinMaxScaler()

# Fit the scaler on the training data and transform both training and testing data
X_train_scaled = scaler.fit_transform(X_train)
X_test_scaled = scaler.transform(X_test)
     

# Define the neural network model
model = keras.Sequential([
	keras.layers.Input( shape=(X_train_scaled.shape[1],)), # Input layer
	keras.layers.Dense(512, activation='relu'), # Hidden layer with 512 units and ReLU activation
	keras.layers.Dense(216, activation='relu'), # Hidden layer with 216 units and ReLU activation
	keras.layers.Dense(1, activation='linear') # Output layer with linear activation for regression
])

# Compile the model with Huber loss
huber_loss = tf.keras.losses.Huber(delta=2.0) # You can adjust the 'delta' parameter as needed
model.compile(optimizer='adam', loss=huber_loss) # Use Huber loss for regression
     

# Train the model
model.fit(X_train_scaled, y_train, epochs=50, batch_size=64, validation_data=(X_test_scaled, y_test))
     
Epoch 1/50
832/832 [==============================] - 7s 9ms/step - loss: 36.9045 - val_loss: 36.6657
Epoch 2/50
832/832 [==============================] - 6s 7ms/step - loss: 36.6556 - val_loss: 38.3075
Epoch 3/50
832/832 [==============================] - 11s 13ms/step - loss: 36.5103 - val_loss: 36.0226
Epoch 4/50
832/832 [==============================] - 12s 14ms/step - loss: 36.4579 - val_loss: 35.8082
Epoch 5/50
832/832 [==============================] - 9s 11ms/step - loss: 36.1609 - val_loss: 35.9989
Epoch 6/50
832/832 [==============================] - 8s 10ms/step - loss: 36.0099 - val_loss: 36.7518
Epoch 7/50
832/832 [==============================] - 5s 6ms/step - loss: 35.8917 - val_loss: 35.6011
Epoch 8/50
832/832 [==============================] - 7s 8ms/step - loss: 35.6037 - val_loss: 35.3634
Epoch 9/50
832/832 [==============================] - 5s 6ms/step - loss: 35.4561 - val_loss: 35.2857
Epoch 10/50
832/832 [==============================] - 5s 6ms/step - loss: 35.3441 - val_loss: 34.6738
Epoch 11/50
832/832 [==============================] - 6s 7ms/step - loss: 35.1155 - val_loss: 35.0290
Epoch 12/50
832/832 [==============================] - 5s 7ms/step - loss: 34.9921 - val_loss: 34.6832
Epoch 13/50
832/832 [==============================] - 7s 9ms/step - loss: 34.8126 - val_loss: 34.0073
Epoch 14/50
832/832 [==============================] - 5s 6ms/step - loss: 34.6510 - val_loss: 33.9380
Epoch 15/50
832/832 [==============================] - 6s 7ms/step - loss: 34.5404 - val_loss: 34.5770
Epoch 16/50
832/832 [==============================] - 6s 7ms/step - loss: 34.3456 - val_loss: 33.7551
Epoch 17/50
832/832 [==============================] - 5s 6ms/step - loss: 34.1562 - val_loss: 33.6026
Epoch 18/50
832/832 [==============================] - 6s 8ms/step - loss: 34.0000 - val_loss: 35.4488
Epoch 19/50
832/832 [==============================] - 6s 7ms/step - loss: 33.9809 - val_loss: 33.8306
Epoch 20/50
832/832 [==============================] - 6s 7ms/step - loss: 33.6667 - val_loss: 33.6088
Epoch 21/50
832/832 [==============================] - 6s 7ms/step - loss: 33.6819 - val_loss: 33.5904
Epoch 22/50
832/832 [==============================] - 6s 7ms/step - loss: 33.3862 - val_loss: 32.9847
Epoch 23/50
832/832 [==============================] - 8s 9ms/step - loss: 33.4304 - val_loss: 33.0302
Epoch 24/50
832/832 [==============================] - 5s 6ms/step - loss: 33.2354 - val_loss: 33.3250
Epoch 25/50
832/832 [==============================] - 7s 9ms/step - loss: 33.2789 - val_loss: 32.6767
Epoch 26/50
832/832 [==============================] - 5s 7ms/step - loss: 33.2051 - val_loss: 33.0673
Epoch 27/50
832/832 [==============================] - 7s 8ms/step - loss: 32.8580 - val_loss: 32.3529
Epoch 28/50
832/832 [==============================] - 6s 7ms/step - loss: 32.7398 - val_loss: 32.2901
Epoch 29/50
832/832 [==============================] - 6s 7ms/step - loss: 32.7666 - val_loss: 33.1408
Epoch 30/50
832/832 [==============================] - 6s 7ms/step - loss: 32.6295 - val_loss: 32.6389
Epoch 31/50
832/832 [==============================] - 5s 6ms/step - loss: 32.4465 - val_loss: 31.9681
Epoch 32/50
832/832 [==============================] - 8s 9ms/step - loss: 32.5694 - val_loss: 31.9046
Epoch 33/50
832/832 [==============================] - 6s 7ms/step - loss: 32.2582 - val_loss: 31.8489
Epoch 34/50
832/832 [==============================] - 7s 8ms/step - loss: 32.0913 - val_loss: 31.9721
Epoch 35/50
832/832 [==============================] - 5s 6ms/step - loss: 31.8333 - val_loss: 31.4960
Epoch 36/50
832/832 [==============================] - 5s 6ms/step - loss: 31.8779 - val_loss: 31.8291
Epoch 37/50
832/832 [==============================] - 7s 9ms/step - loss: 31.9571 - val_loss: 32.3996
Epoch 38/50
832/832 [==============================] - 5s 7ms/step - loss: 31.6478 - val_loss: 31.2167
Epoch 39/50
832/832 [==============================] - 7s 8ms/step - loss: 31.7282 - val_loss: 31.1537
Epoch 40/50
832/832 [==============================] - 5s 7ms/step - loss: 31.4802 - val_loss: 31.8700
Epoch 41/50
832/832 [==============================] - 5s 7ms/step - loss: 31.4567 - val_loss: 33.7153
Epoch 42/50
832/832 [==============================] - 7s 8ms/step - loss: 31.7517 - val_loss: 30.9567
Epoch 43/50
832/832 [==============================] - 5s 6ms/step - loss: 31.2145 - val_loss: 30.8380
Epoch 44/50
832/832 [==============================] - 7s 8ms/step - loss: 31.2488 - val_loss: 30.6615
Epoch 45/50
832/832 [==============================] - 6s 7ms/step - loss: 31.0018 - val_loss: 31.5276
Epoch 46/50
832/832 [==============================] - 6s 7ms/step - loss: 31.1256 - val_loss: 31.1516
Epoch 47/50
832/832 [==============================] - 6s 7ms/step - loss: 30.9503 - val_loss: 30.8806
Epoch 48/50
832/832 [==============================] - 6s 7ms/step - loss: 30.9431 - val_loss: 30.9824
Epoch 49/50
832/832 [==============================] - 7s 9ms/step - loss: 30.9186 - val_loss: 30.6713
Epoch 50/50
832/832 [==============================] - 5s 6ms/step - loss: 30.8748 - val_loss: 30.9633
<keras.src.callbacks.History at 0x7f2a6062af20>

model_losses = pd.DataFrame(model.history.history)
model_losses.plot()
     
<Axes: >


# Make predictions
predictions = model.predict(X_test_scaled)

from sklearn.metrics import mean_absolute_error,mean_squared_error
mean_absolute_error(y_test,predictions)
     
713/713 [==============================] - 1s 2ms/step
16.440030152116577

import ipywidgets as widgets
from IPython.display import display, clear_output

import warnings
warnings.filterwarnings("ignore")

venue = widgets.Dropdown(options=df['venue'].unique().tolist(),description='Select Venue:')
batting_team = widgets.Dropdown(options =df['bat_team'].unique().tolist(), description='Select Batting Team:')
bowling_team = widgets.Dropdown(options=df['bowl_team'].unique().tolist(), description='Select Bowling Team:')
striker = widgets.Dropdown(options=df['batsman'].unique().tolist(), description='Select Striker:')
bowler = widgets.Dropdown(options=df['bowler'].unique().tolist(), description='Select Bowler:')

predict_button = widgets.Button(description="Predict Score")

def predict_score(b):
	with output:
		clear_output() # Clear the previous output


		# Decode the encoded values back to their original values
		decoded_venue = venue_encoder.transform([venue.value])
		decoded_batting_team = batting_team_encoder.transform([batting_team.value])
		decoded_bowling_team = bowling_team_encoder.transform([bowling_team.value])
		decoded_striker = striker_encoder.transform([striker.value])
		decoded_bowler = bowler_encoder.transform([bowler.value])


		input = np.array([decoded_venue, decoded_batting_team, decoded_bowling_team,decoded_striker, decoded_bowler])
		input = input.reshape(1,5)
		input = scaler.transform(input)
		#print(input)
		predicted_score = model.predict(input)
		predicted_score = int(predicted_score[0,0])

		print(predicted_score)
     

predict_button.on_click(predict_score)
output = widgets.Output()
display(venue, batting_team, bowling_team, striker, bowler, predict_button, output)
     
Dropdown(description='Select Venue:', options=('M Chinnaswamy Stadium', 'Punjab Cricket Association Stadium, M…
Dropdown(description='Select Batting Team:', options=('Kolkata Knight Riders', 'Chennai Super Kings', 'Rajasth…
Dropdown(description='Select Bowling Team:', options=('Royal Challengers Bangalore', 'Kings XI Punjab', 'Delhi…
Dropdown(description='Select Striker:', options=('SC Ganguly', 'BB McCullum', 'RT Ponting', 'DJ Hussey', 'Moha…
Dropdown(description='Select Bowler:', options=('P Kumar', 'Z Khan', 'AA Noffke', 'JH Kallis', 'SB Joshi', 'CL…
Button(description='Predict Score', style=ButtonStyle())
Output()
