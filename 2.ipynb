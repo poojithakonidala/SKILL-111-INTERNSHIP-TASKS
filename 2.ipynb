import pandas as pd
from datetime import datetime
from sklearn.model_selection import train_test_split
from sklearn.ensemble import RandomForestRegressor
from sklearn.metrics import mean_absolute_error

# Load data
data = pd.read_csv("rides.csv")

# Feature engineering
data['datetime'] = pd.to_datetime(data['timestamp'])
data['hour'] = data['datetime'].dt.hour

# Define features and target
X = data[['hour','temperature']]  # Feature
y = data['ride_requests']           # Target
X=X.values
y=y.values

# Split data into training and testing sets
X_train, X_test, y_train, y_test = train_test_split(X, y, test_size=0.2, random_state=42)

# Model training
model = RandomForestRegressor(n_estimators=100, random_state=42)
model.fit(X_train, y_train)

# Model evaluation
y_pred = model.predict(X_test)
mae = mean_absolute_error(y_test, y_pred)
print("Mean Absolute Error:", mae)

# Make predictions
future_hour = 16
future_temp = 20
future_data = [[future_hour,future_temp]]
future_pred = model.predict(future_data)
print("Predicted ride requests for {}: {}".format(future_hour, future_pred[0]))
     
Mean Absolute Error: 3.9850000000000003
Predicted ride requests for 16: 33.42
